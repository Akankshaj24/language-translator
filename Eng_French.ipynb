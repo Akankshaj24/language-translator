{
  "cells": [
    {
      "cell_type": "code",
      "execution_count": 12,
      "metadata": {
        "id": "zCqzXdrQgCRS"
      },
      "outputs": [],
      "source": [
        "import collections\n",
        "import numpy as np\n",
        "import json\n",
        "\n",
        "from keras.preprocessing.text import Tokenizer\n",
        "from keras.utils import pad_sequences\n",
        "from keras.models import Model, Sequential\n",
        "from keras.layers import Input, Dense, Embedding, GRU, LSTM, Bidirectional, Dropout, Activation, TimeDistributed, RepeatVector\n",
        "from keras.optimizers import Adam\n",
        "from keras.losses import sparse_categorical_crossentropy"
      ]
    },
    {
      "cell_type": "code",
      "execution_count": 13,
      "metadata": {
        "colab": {
          "base_uri": "https://localhost:8080/"
        },
        "id": "Q8aGTLcOgFM8",
        "outputId": "5cfe42d2-7c03-4db6-a334-568ab9c8377c"
      },
      "outputs": [
        {
          "name": "stdout",
          "output_type": "stream",
          "text": [
            "[name: \"/device:CPU:0\"\n",
            "device_type: \"CPU\"\n",
            "memory_limit: 268435456\n",
            "locality {\n",
            "}\n",
            "incarnation: 3156913126022081186\n",
            "xla_global_id: -1\n",
            ", name: \"/device:GPU:0\"\n",
            "device_type: \"GPU\"\n",
            "memory_limit: 14626652160\n",
            "locality {\n",
            "  bus_id: 1\n",
            "  links {\n",
            "  }\n",
            "}\n",
            "incarnation: 1803183506203299563\n",
            "physical_device_desc: \"device: 0, name: Tesla T4, pci bus id: 0000:00:04.0, compute capability: 7.5\"\n",
            "xla_global_id: 416903419\n",
            "]\n"
          ]
        }
      ],
      "source": [
        "from tensorflow.python.client import device_lib\n",
        "print(device_lib.list_local_devices())"
      ]
    },
    {
      "cell_type": "code",
      "execution_count": 14,
      "metadata": {
        "id": "esLToNnQgdLU"
      },
      "outputs": [],
      "source": [
        "def load_data(path):\n",
        "    input_file = path\n",
        "    with open(input_file, \"r\") as f:\n",
        "        data = f.read()\n",
        "    return data.split('\\n')\n",
        "\n",
        "english_sentences = load_data('english')\n",
        "french_sentences = load_data('french')"
      ]
    },
    {
      "cell_type": "code",
      "execution_count": 15,
      "metadata": {
        "colab": {
          "base_uri": "https://localhost:8080/"
        },
        "id": "j9PW_yhygsQg",
        "outputId": "72b81e1d-143c-4fc5-9c5d-ee233c35fcb4"
      },
      "outputs": [
        {
          "data": {
            "text/plain": [
              "['new jersey is sometimes quiet during autumn , and it is snowy in april .',\n",
              " 'the united states is usually chilly during july , and it is usually freezing in november .',\n",
              " 'california is usually quiet during march , and it is usually hot in june .',\n",
              " 'the united states is sometimes mild during june , and it is cold in september .',\n",
              " 'your least liked fruit is the grape , but my least liked is the apple .']"
            ]
          },
          "execution_count": 15,
          "metadata": {},
          "output_type": "execute_result"
        }
      ],
      "source": [
        "english_sentences[:5]"
      ]
    },
    {
      "cell_type": "code",
      "execution_count": 16,
      "metadata": {
        "colab": {
          "base_uri": "https://localhost:8080/"
        },
        "id": "Bmd29EU8gu3s",
        "outputId": "53239fe9-98cf-4b31-de91-c2353b0e2038"
      },
      "outputs": [
        {
          "name": "stdout",
          "output_type": "stream",
          "text": [
            "1823250 English words.\n",
            "227 unique English words.\n",
            "10 Most common words in the English dataset:\n",
            "\"is\" \",\" \".\" \"in\" \"it\" \"during\" \"the\" \"but\" \"and\" \"sometimes\"\n",
            "\n",
            "1961295 French words.\n",
            "355 unique French words.\n",
            "10 Most common words in the French dataset:\n",
            "\"est\" \".\" \",\" \"en\" \"il\" \"les\" \"mais\" \"et\" \"la\" \"parfois\"\n"
          ]
        }
      ],
      "source": [
        "english_words_counter = collections.Counter([word for sentence in english_sentences for word in sentence.split()])\n",
        "french_words_counter = collections.Counter([word for sentence in french_sentences for word in sentence.split()])\n",
        "\n",
        "print('{} English words.'.format(len([word for sentence in english_sentences for word in sentence.split()])))\n",
        "print('{} unique English words.'.format(len(english_words_counter)))\n",
        "print('10 Most common words in the English dataset:')\n",
        "print('\"' + '\" \"'.join(list(zip(*english_words_counter.most_common(10)))[0]) + '\"')\n",
        "\n",
        "print()\n",
        "print('{} French words.'.format(len([word for sentence in french_sentences for word in sentence.split()])))\n",
        "print('{} unique French words.'.format(len(french_words_counter)))\n",
        "print('10 Most common words in the French dataset:')\n",
        "print('\"' + '\" \"'.join(list(zip(*french_words_counter.most_common(10)))[0]) + '\"')"
      ]
    },
    {
      "cell_type": "code",
      "execution_count": 17,
      "metadata": {
        "colab": {
          "base_uri": "https://localhost:8080/"
        },
        "id": "4zkPLIlMgyoz",
        "outputId": "a5d36922-dca0-49c7-d959-1a15a0387ea5"
      },
      "outputs": [
        {
          "name": "stdout",
          "output_type": "stream",
          "text": [
            "{'the': 1, 'quick': 2, 'a': 3, 'brown': 4, 'fox': 5, 'jumps': 6, 'over': 7, 'lazy': 8, 'dog': 9, 'by': 10, 'jove': 11, 'my': 12, 'study': 13, 'of': 14, 'lexicography': 15, 'won': 16, 'prize': 17, 'this': 18, 'is': 19, 'short': 20, 'sentence': 21}\n",
            "\n",
            "Sequence 1 in x\n",
            "  Input:  The quick brown fox jumps over the lazy dog .\n",
            "  Output: [1, 2, 4, 5, 6, 7, 1, 8, 9]\n",
            "Sequence 2 in x\n",
            "  Input:  By Jove , my quick study of lexicography won a prize .\n",
            "  Output: [10, 11, 12, 2, 13, 14, 15, 16, 3, 17]\n",
            "Sequence 3 in x\n",
            "  Input:  This is a short sentence .\n",
            "  Output: [18, 19, 3, 20, 21]\n"
          ]
        }
      ],
      "source": [
        "def tokenize(x):\n",
        "    tokenizer = Tokenizer()\n",
        "    tokenizer.fit_on_texts(x)\n",
        "    return tokenizer.texts_to_sequences(x), tokenizer\n",
        "\n",
        "text_sentences = [\n",
        "    'The quick brown fox jumps over the lazy dog .',\n",
        "    'By Jove , my quick study of lexicography won a prize .',\n",
        "    'This is a short sentence .']\n",
        "\n",
        "text_tokenized, text_tokenizer = tokenize(text_sentences)\n",
        "print(text_tokenizer.word_index)\n",
        "print()\n",
        "for sample_i, (sent, token_sent) in enumerate(zip(text_sentences, text_tokenized)):\n",
        "    print('Sequence {} in x'.format(sample_i + 1))\n",
        "    print('  Input:  {}'.format(sent))\n",
        "    print('  Output: {}'.format(token_sent))"
      ]
    },
    {
      "cell_type": "code",
      "execution_count": 18,
      "metadata": {
        "colab": {
          "base_uri": "https://localhost:8080/"
        },
        "id": "7mikWkRMg2Xa",
        "outputId": "349890d0-36fa-42e5-f5fa-dfbb84e46dd8"
      },
      "outputs": [
        {
          "name": "stdout",
          "output_type": "stream",
          "text": [
            "Sequence 1 in x\n",
            "  Input:  [1 2 4 5 6 7 1 8 9]\n",
            "  Output: [1 2 4 5 6 7 1 8 9 0]\n",
            "Sequence 2 in x\n",
            "  Input:  [10 11 12  2 13 14 15 16  3 17]\n",
            "  Output: [10 11 12  2 13 14 15 16  3 17]\n",
            "Sequence 3 in x\n",
            "  Input:  [18 19  3 20 21]\n",
            "  Output: [18 19  3 20 21  0  0  0  0  0]\n"
          ]
        }
      ],
      "source": [
        "def pad(x, length=None):\n",
        "    if length is None:\n",
        "        length = max([len(sentence) for sentence in x])\n",
        "    return pad_sequences(x, maxlen=length, padding='post')\n",
        "\n",
        "test_pad = pad(text_tokenized)\n",
        "for sample_i, (token_sent, pad_sent) in enumerate(zip(text_tokenized, test_pad)):\n",
        "    print('Sequence {} in x'.format(sample_i + 1))\n",
        "    print('  Input:  {}'.format(np.array(token_sent)))\n",
        "    print('  Output: {}'.format(pad_sent))"
      ]
    },
    {
      "cell_type": "code",
      "execution_count": 19,
      "metadata": {
        "colab": {
          "base_uri": "https://localhost:8080/"
        },
        "id": "AIZD94iAg464",
        "outputId": "176d5e68-059f-40e8-9708-c29ef2528f30"
      },
      "outputs": [
        {
          "name": "stdout",
          "output_type": "stream",
          "text": [
            "Data Preprocessed\n",
            "Max English sentence length: 15\n",
            "Max French sentence length: 21\n",
            "English vocabulary size: 199\n",
            "French vocabulary size: 344\n"
          ]
        }
      ],
      "source": [
        "def preprocess(x,y):\n",
        "    preprocess_x, x_tk = tokenize(x)\n",
        "    preprocess_y, y_tk = tokenize(y)\n",
        "\n",
        "    preprocess_x = pad(preprocess_x)\n",
        "    preprocess_y = pad(preprocess_y)\n",
        "\n",
        "    preprocess_y = preprocess_y.reshape(*preprocess_y.shape, 1)\n",
        "\n",
        "    return preprocess_x, preprocess_y, x_tk, y_tk\n",
        "\n",
        "preproc_english_sentences, preproc_french_sentences, english_tokenizer, french_tokenizer = preprocess(english_sentences, french_sentences)\n",
        "\n",
        "max_english_sequence_length = preproc_english_sentences.shape[1]\n",
        "max_french_sequence_length = preproc_french_sentences.shape[1]\n",
        "english_vocab_size = len(english_tokenizer.word_index)\n",
        "french_vocab_size = len(french_tokenizer.word_index)\n",
        "\n",
        "print('Data Preprocessed')\n",
        "print(\"Max English sentence length:\", max_english_sequence_length)\n",
        "print(\"Max French sentence length:\", max_french_sequence_length)\n",
        "print(\"English vocabulary size:\", english_vocab_size)\n",
        "print(\"French vocabulary size:\", french_vocab_size)"
      ]
    },
    {
      "cell_type": "code",
      "execution_count": 20,
      "metadata": {
        "id": "FsLbLydRg8_t"
      },
      "outputs": [],
      "source": [
        "def logits_to_text(logits, tokenizer):\n",
        "    index_to_words = {id: word for word, id in tokenizer.word_index.items()}\n",
        "    index_to_words[0] = '<PAD>'\n",
        "\n",
        "    return ' '.join([index_to_words[prediction] for prediction in np.argmax(logits, 1)])"
      ]
    },
    {
      "cell_type": "code",
      "execution_count": 21,
      "metadata": {
        "colab": {
          "base_uri": "https://localhost:8080/"
        },
        "id": "hw14ePG5hAYx",
        "outputId": "91dfd280-29c3-4016-cd7b-b96e84dede1e"
      },
      "outputs": [
        {
          "name": "stdout",
          "output_type": "stream",
          "text": [
            "Epoch 1/10\n",
            "108/108 [==============================] - 8s 56ms/step - loss: 2.0158 - accuracy: 0.5308 - val_loss: nan - val_accuracy: 0.6143\n",
            "Epoch 2/10\n",
            "108/108 [==============================] - 5s 49ms/step - loss: 1.2906 - accuracy: 0.6288 - val_loss: nan - val_accuracy: 0.6694\n",
            "Epoch 3/10\n",
            "108/108 [==============================] - 5s 48ms/step - loss: 1.1253 - accuracy: 0.6608 - val_loss: nan - val_accuracy: 0.6887\n",
            "Epoch 4/10\n",
            "108/108 [==============================] - 5s 50ms/step - loss: 1.0310 - accuracy: 0.6782 - val_loss: nan - val_accuracy: 0.6964\n",
            "Epoch 5/10\n",
            "108/108 [==============================] - 5s 50ms/step - loss: 0.9741 - accuracy: 0.6881 - val_loss: nan - val_accuracy: 0.7072\n",
            "Epoch 6/10\n",
            "108/108 [==============================] - 6s 52ms/step - loss: 0.9327 - accuracy: 0.6939 - val_loss: nan - val_accuracy: 0.7119\n",
            "Epoch 7/10\n",
            "108/108 [==============================] - 6s 56ms/step - loss: 0.8887 - accuracy: 0.7060 - val_loss: nan - val_accuracy: 0.7164\n",
            "Epoch 8/10\n",
            "108/108 [==============================] - 6s 57ms/step - loss: 0.8903 - accuracy: 0.7094 - val_loss: nan - val_accuracy: 0.7298\n",
            "Epoch 9/10\n",
            "108/108 [==============================] - 6s 53ms/step - loss: 0.8225 - accuracy: 0.7287 - val_loss: nan - val_accuracy: 0.7373\n",
            "Epoch 10/10\n",
            "108/108 [==============================] - 5s 51ms/step - loss: 0.7776 - accuracy: 0.7411 - val_loss: nan - val_accuracy: 0.7660\n"
          ]
        },
        {
          "data": {
            "text/plain": [
              "<keras.src.callbacks.History at 0x7b0ac161b1c0>"
            ]
          },
          "execution_count": 21,
          "metadata": {},
          "output_type": "execute_result"
        }
      ],
      "source": [
        "def simple_model(input_shape, output_sequence_length, english_vocab_size, french_vocab_size):\n",
        "\n",
        "    #Hyperparameters\n",
        "    learning_rate = 0.005\n",
        "\n",
        "    # Build the layers\n",
        "    model = Sequential()\n",
        "    model.add(GRU(256, input_shape=input_shape[1:], return_sequences=True))\n",
        "    model.add(TimeDistributed(Dense(1024, activation='relu')))\n",
        "    model.add(Dropout(0.5))\n",
        "    model.add(TimeDistributed(Dense(french_vocab_size, activation='softmax')))\n",
        "\n",
        "    # Compile model\n",
        "    model.compile(loss = sparse_categorical_crossentropy,\n",
        "                  optimizer = Adam(learning_rate),\n",
        "                  metrics = ['accuracy'])\n",
        "\n",
        "    return model\n",
        "\n",
        "tmp_x = pad(preproc_english_sentences, max_french_sequence_length)\n",
        "tmp_x = tmp_x.reshape((-1, preproc_french_sentences.shape[-2], 1))\n",
        "\n",
        "#Train the neural network\n",
        "simple_rnn_model = simple_model(\n",
        "    tmp_x.shape,\n",
        "    max_french_sequence_length,\n",
        "    english_vocab_size,\n",
        "    french_vocab_size)\n",
        "\n",
        "# simple_rnn_model.fit(tmp_x, preproc_french_sentences, batch_size=1024, epochs=1, validation_split=0.2)\n",
        "\n",
        "simple_rnn_model.fit(tmp_x, preproc_french_sentences, batch_size=1024, epochs=10, validation_split=0.2)"
      ]
    },
    {
      "cell_type": "code",
      "execution_count": 22,
      "metadata": {
        "colab": {
          "base_uri": "https://localhost:8080/"
        },
        "id": "sDv5aB_HhIgW",
        "outputId": "654fb8ab-a6e7-4e0f-bfc4-9b7c7271bfdc"
      },
      "outputs": [
        {
          "name": "stdout",
          "output_type": "stream",
          "text": [
            "Prediciton:\n",
            "1/1 [==============================] - 0s 352ms/step\n",
            "new jersey est parfois chaud en mois de il et il est en <PAD> <PAD> <PAD> <PAD> <PAD> <PAD> <PAD> <PAD>\n",
            "\n",
            "Correct Translation:\n",
            "[\"new jersey est parfois calme pendant l' automne , et il est neigeux en avril .\"]\n",
            "\n",
            "Original text:\n",
            "['new jersey is sometimes quiet during autumn , and it is snowy in april .']\n"
          ]
        }
      ],
      "source": [
        "# Print prediction(s)\n",
        "print(\"Prediciton:\")\n",
        "print(logits_to_text(simple_rnn_model.predict(tmp_x[:1])[0], french_tokenizer))\n",
        "\n",
        "print(\"\\nCorrect Translation:\")\n",
        "print(french_sentences[:1])\n",
        "\n",
        "print('\\nOriginal text:')\n",
        "print(english_sentences[:1])"
      ]
    },
    {
      "cell_type": "code",
      "execution_count": 25,
      "metadata": {
        "colab": {
          "base_uri": "https://localhost:8080/"
        },
        "id": "8qEhUgkehpGk",
        "outputId": "2c556d0e-ee04-4f46-88c2-5704a8c1877d"
      },
      "outputs": [
        {
          "name": "stdout",
          "output_type": "stream",
          "text": [
            "Model: \"sequential_2\"\n",
            "_________________________________________________________________\n",
            " Layer (type)                Output Shape              Param #   \n",
            "=================================================================\n",
            " bidirectional (Bidirection  (None, 21, 256)           100608    \n",
            " al)                                                             \n",
            "                                                                 \n",
            " time_distributed_4 (TimeDi  (None, 21, 1024)          263168    \n",
            " stributed)                                                      \n",
            "                                                                 \n",
            " dropout_2 (Dropout)         (None, 21, 1024)          0         \n",
            "                                                                 \n",
            " time_distributed_5 (TimeDi  (None, 21, 344)           352600    \n",
            " stributed)                                                      \n",
            "                                                                 \n",
            "=================================================================\n",
            "Total params: 716376 (2.73 MB)\n",
            "Trainable params: 716376 (2.73 MB)\n",
            "Non-trainable params: 0 (0.00 Byte)\n",
            "_________________________________________________________________\n",
            "None\n",
            "Epoch 1/10\n",
            "108/108 [==============================] - 11s 55ms/step - loss: 1.7488 - accuracy: 0.5773 - val_loss: nan - val_accuracy: 0.6460\n",
            "Epoch 2/10\n",
            "108/108 [==============================] - 6s 51ms/step - loss: 1.1740 - accuracy: 0.6540 - val_loss: nan - val_accuracy: 0.6790\n",
            "Epoch 3/10\n",
            "108/108 [==============================] - 5s 49ms/step - loss: 1.0509 - accuracy: 0.6759 - val_loss: nan - val_accuracy: 0.6923\n",
            "Epoch 4/10\n",
            "108/108 [==============================] - 5s 47ms/step - loss: 0.9731 - accuracy: 0.6878 - val_loss: nan - val_accuracy: 0.7081\n",
            "Epoch 5/10\n",
            "108/108 [==============================] - 5s 50ms/step - loss: 0.9141 - accuracy: 0.6971 - val_loss: nan - val_accuracy: 0.7009\n",
            "Epoch 6/10\n",
            "108/108 [==============================] - 5s 48ms/step - loss: 0.8736 - accuracy: 0.7041 - val_loss: nan - val_accuracy: 0.7170\n",
            "Epoch 7/10\n",
            "108/108 [==============================] - 5s 50ms/step - loss: 0.8382 - accuracy: 0.7118 - val_loss: nan - val_accuracy: 0.7322\n",
            "Epoch 8/10\n",
            "108/108 [==============================] - 5s 49ms/step - loss: 0.8131 - accuracy: 0.7172 - val_loss: nan - val_accuracy: 0.7289\n",
            "Epoch 9/10\n",
            "108/108 [==============================] - 5s 48ms/step - loss: 0.7863 - accuracy: 0.7242 - val_loss: nan - val_accuracy: 0.7465\n",
            "Epoch 10/10\n",
            "108/108 [==============================] - 5s 47ms/step - loss: 0.7902 - accuracy: 0.7190 - val_loss: nan - val_accuracy: 0.7410\n"
          ]
        },
        {
          "data": {
            "text/plain": [
              "<keras.src.callbacks.History at 0x7b0a0c450d60>"
            ]
          },
          "execution_count": 25,
          "metadata": {},
          "output_type": "execute_result"
        }
      ],
      "source": [
        "def bd_model(input_shape, output_sequence_length, english_vocab_size, french_vocab_size):\n",
        "\n",
        "    #Hyperparameters\n",
        "    learning_rate = 0.005\n",
        "\n",
        "    # Build the layers\n",
        "    model = Sequential()\n",
        "    model.add(Bidirectional(GRU(128, return_sequences=True), input_shape=input_shape[1:]))\n",
        "    model.add(TimeDistributed(Dense(1024, activation='relu')))\n",
        "    model.add(Dropout(0.5))\n",
        "    model.add(TimeDistributed(Dense(french_vocab_size, activation='softmax')))\n",
        "\n",
        "    # Compile model\n",
        "    model.compile(loss = sparse_categorical_crossentropy,\n",
        "                  optimizer = Adam(learning_rate),\n",
        "                  metrics = ['accuracy'])\n",
        "\n",
        "    return model\n",
        "\n",
        "tmp_x = pad(preproc_english_sentences, max_french_sequence_length)\n",
        "tmp_x = tmp_x.reshape((-1, preproc_french_sentences.shape[-2], 1))\n",
        "\n",
        "# Train the neural network\n",
        "bd_rnn_model = bd_model(\n",
        "    tmp_x.shape,\n",
        "    max_french_sequence_length,\n",
        "    english_vocab_size,\n",
        "    french_vocab_size)\n",
        "\n",
        "print(bd_rnn_model.summary())\n",
        "\n",
        "bd_rnn_model.fit(tmp_x, preproc_french_sentences, batch_size=1024, epochs=10, validation_split=0.2)"
      ]
    },
    {
      "cell_type": "code",
      "execution_count": 26,
      "metadata": {
        "colab": {
          "base_uri": "https://localhost:8080/"
        },
        "id": "rflfXFZQhtey",
        "outputId": "426c20b8-b4cc-49e5-b785-57c33c5b1372"
      },
      "outputs": [
        {
          "name": "stdout",
          "output_type": "stream",
          "text": [
            "Prediciton:\n",
            "1/1 [==============================] - 1s 601ms/step\n",
            "new jersey est parfois calme en mois et il et est est en <PAD> <PAD> <PAD> <PAD> <PAD> <PAD> <PAD> <PAD>\n",
            "\n",
            "Correct Translation:\n",
            "[\"new jersey est parfois calme pendant l' automne , et il est neigeux en avril .\"]\n",
            "\n",
            "Original text:\n",
            "['new jersey is sometimes quiet during autumn , and it is snowy in april .']\n"
          ]
        }
      ],
      "source": [
        "# Print prediction(s)\n",
        "print(\"Prediciton:\")\n",
        "print(logits_to_text(bd_rnn_model.predict(tmp_x[:1])[0], french_tokenizer))\n",
        "\n",
        "print(\"\\nCorrect Translation:\")\n",
        "print(french_sentences[:1])\n",
        "\n",
        "print('\\nOriginal text:')\n",
        "print(english_sentences[:1])"
      ]
    },
    {
      "cell_type": "code",
      "execution_count": 27,
      "metadata": {
        "colab": {
          "base_uri": "https://localhost:8080/"
        },
        "id": "On7lydz8iQZX",
        "outputId": "32cbd2e8-106c-482a-b5ec-db64de8b5bbf"
      },
      "outputs": [
        {
          "name": "stdout",
          "output_type": "stream",
          "text": [
            "Model: \"sequential_3\"\n",
            "_________________________________________________________________\n",
            " Layer (type)                Output Shape              Param #   \n",
            "=================================================================\n",
            " embedding (Embedding)       (None, 21, 256)           50944     \n",
            "                                                                 \n",
            " bidirectional_1 (Bidirecti  (None, 21, 512)           789504    \n",
            " onal)                                                           \n",
            "                                                                 \n",
            " time_distributed_6 (TimeDi  (None, 21, 1024)          525312    \n",
            " stributed)                                                      \n",
            "                                                                 \n",
            " dropout_3 (Dropout)         (None, 21, 1024)          0         \n",
            "                                                                 \n",
            " time_distributed_7 (TimeDi  (None, 21, 344)           352600    \n",
            " stributed)                                                      \n",
            "                                                                 \n",
            "=================================================================\n",
            "Total params: 1718360 (6.56 MB)\n",
            "Trainable params: 1718360 (6.56 MB)\n",
            "Non-trainable params: 0 (0.00 Byte)\n",
            "_________________________________________________________________\n",
            "None\n",
            "Epoch 1/10\n",
            "108/108 [==============================] - 15s 102ms/step - loss: 1.1546 - accuracy: 0.7208 - val_loss: nan - val_accuracy: 0.8844\n",
            "Epoch 2/10\n",
            "108/108 [==============================] - 9s 88ms/step - loss: 0.2738 - accuracy: 0.9118 - val_loss: nan - val_accuracy: 0.9434\n",
            "Epoch 3/10\n",
            "108/108 [==============================] - 9s 87ms/step - loss: 0.1618 - accuracy: 0.9488 - val_loss: nan - val_accuracy: 0.9607\n",
            "Epoch 4/10\n",
            "108/108 [==============================] - 9s 87ms/step - loss: 0.1188 - accuracy: 0.9628 - val_loss: nan - val_accuracy: 0.9692\n",
            "Epoch 5/10\n",
            "108/108 [==============================] - 10s 92ms/step - loss: 0.0936 - accuracy: 0.9708 - val_loss: nan - val_accuracy: 0.9751\n",
            "Epoch 6/10\n",
            "108/108 [==============================] - 9s 88ms/step - loss: 0.0787 - accuracy: 0.9757 - val_loss: nan - val_accuracy: 0.9784\n",
            "Epoch 7/10\n",
            "108/108 [==============================] - 10s 93ms/step - loss: 0.0679 - accuracy: 0.9789 - val_loss: nan - val_accuracy: 0.9794\n",
            "Epoch 8/10\n",
            "108/108 [==============================] - 9s 88ms/step - loss: 0.0622 - accuracy: 0.9808 - val_loss: nan - val_accuracy: 0.9819\n",
            "Epoch 9/10\n",
            "108/108 [==============================] - 10s 94ms/step - loss: 0.0560 - accuracy: 0.9826 - val_loss: nan - val_accuracy: 0.9832\n",
            "Epoch 10/10\n",
            "108/108 [==============================] - 10s 95ms/step - loss: 0.0566 - accuracy: 0.9825 - val_loss: nan - val_accuracy: 0.9819\n"
          ]
        },
        {
          "data": {
            "text/plain": [
              "<keras.src.callbacks.History at 0x7b0a01cfd000>"
            ]
          },
          "execution_count": 27,
          "metadata": {},
          "output_type": "execute_result"
        }
      ],
      "source": [
        "def bidirectional_embed_model(input_shape, output_sequence_length, english_vocab_size, french_vocab_size):\n",
        "\n",
        "    # Hyperparameters\n",
        "    learning_rate = 0.005\n",
        "\n",
        "    # Build the layers\n",
        "    model = Sequential()\n",
        "    model.add(Embedding(english_vocab_size, 256, input_length=input_shape[1], input_shape=input_shape[1:]))\n",
        "    model.add(Bidirectional(GRU(256, return_sequences=True)))\n",
        "    model.add(TimeDistributed(Dense(1024, activation='relu')))\n",
        "    model.add(Dropout(0.5))\n",
        "    model.add(TimeDistributed(Dense(french_vocab_size, activation='softmax')))\n",
        "\n",
        "    # Compile model\n",
        "    model.compile(loss = sparse_categorical_crossentropy,\n",
        "                  optimizer = Adam(learning_rate),\n",
        "                  metrics = ['accuracy'])\n",
        "\n",
        "    return model\n",
        "\n",
        "tmp_x = pad(preproc_english_sentences, max_french_sequence_length)\n",
        "tmp_x = tmp_x.reshape((-1, preproc_french_sentences.shape[-2]))\n",
        "\n",
        "# Build the model\n",
        "embed_rnn_model = bidirectional_embed_model(\n",
        "    tmp_x.shape,\n",
        "    max_french_sequence_length,\n",
        "    english_vocab_size,\n",
        "    french_vocab_size)\n",
        "\n",
        "print(embed_rnn_model.summary())\n",
        "\n",
        "embed_rnn_model.fit(tmp_x, preproc_french_sentences, batch_size=1024, epochs=10, validation_split=0.2)"
      ]
    },
    {
      "cell_type": "code",
      "execution_count": 28,
      "metadata": {
        "colab": {
          "base_uri": "https://localhost:8080/"
        },
        "id": "xVD4oth_in3E",
        "outputId": "e327f275-d177-490e-bf42-b06d0161cedd"
      },
      "outputs": [
        {
          "name": "stdout",
          "output_type": "stream",
          "text": [
            "Prediciton:\n",
            "1/1 [==============================] - 1s 575ms/step\n",
            "new jersey est parfois calme pendant l' automne et il est neigeux en avril <PAD> <PAD> <PAD> <PAD> <PAD> <PAD> <PAD>\n",
            "\n",
            "Correct Translation:\n",
            "[\"new jersey est parfois calme pendant l' automne , et il est neigeux en avril .\"]\n",
            "\n",
            "Original text:\n",
            "['new jersey is sometimes quiet during autumn , and it is snowy in april .']\n"
          ]
        }
      ],
      "source": [
        "# Print prediction(s)\n",
        "print(\"Prediciton:\")\n",
        "print(logits_to_text(embed_rnn_model.predict(tmp_x[:1])[0], french_tokenizer))\n",
        "\n",
        "print(\"\\nCorrect Translation:\")\n",
        "print(french_sentences[:1])\n",
        "\n",
        "print('\\nOriginal text:')\n",
        "print(english_sentences[:1])"
      ]
    },
    {
      "cell_type": "code",
      "execution_count": 31,
      "metadata": {
        "id": "Vk40YPI2i9p8"
      },
      "outputs": [],
      "source": [
        "embed_rnn_model.save('english_to_french_model')\n",
        "# Serialize English Tokenizer to JSON\n",
        "with open('english_tokenizer.json', 'w', encoding='utf8') as f:\n",
        "    f.write(json.dumps(english_tokenizer.to_json(), ensure_ascii=False))\n",
        "\n",
        "# Serialize French Tokenizer to JSON\n",
        "with open('french_tokenizer.json', 'w', encoding='utf8') as f:\n",
        "    f.write(json.dumps(french_tokenizer.to_json(), ensure_ascii=False))\n",
        "\n",
        "# Save max lengths\n",
        "max_french_sequence_length_json = max_french_sequence_length\n",
        "with open('sequence_length.json', 'w', encoding='utf8') as f:\n",
        "    f.write(json.dumps(max_french_sequence_length_json, ensure_ascii=False))"
      ]
    },
    {
      "cell_type": "code",
      "execution_count": 32,
      "metadata": {
        "colab": {
          "base_uri": "https://localhost:8080/"
        },
        "id": "N1X7Er1ajRdI",
        "outputId": "7f7d3530-2a58-47c9-89c4-daf5db02f2d5"
      },
      "outputs": [
        {
          "name": "stdout",
          "output_type": "stream",
          "text": [
            "  adding: english_to_french_model/ (stored 0%)\n",
            "  adding: english_to_french_model/assets/ (stored 0%)\n",
            "  adding: english_to_french_model/fingerprint.pb (stored 0%)\n",
            "  adding: english_to_french_model/keras_metadata.pb (deflated 90%)\n",
            "  adding: english_to_french_model/saved_model.pb (deflated 91%)\n",
            "  adding: english_to_french_model/variables/ (stored 0%)\n",
            "  adding: english_to_french_model/variables/variables.data-00000-of-00001 (deflated 7%)\n",
            "  adding: english_to_french_model/variables/variables.index (deflated 64%)\n"
          ]
        }
      ],
      "source": [
        "!zip -r zip_file_name.zip english_to_french_model\n"
      ]
    },
    {
      "cell_type": "code",
      "execution_count": 33,
      "metadata": {
        "colab": {
          "base_uri": "https://localhost:8080/",
          "height": 17
        },
        "id": "_G_5IPDLjSRG",
        "outputId": "d772244b-f92c-4368-fa5a-79b1c686b92a"
      },
      "outputs": [
        {
          "data": {
            "application/javascript": "\n    async function download(id, filename, size) {\n      if (!google.colab.kernel.accessAllowed) {\n        return;\n      }\n      const div = document.createElement('div');\n      const label = document.createElement('label');\n      label.textContent = `Downloading \"${filename}\": `;\n      div.appendChild(label);\n      const progress = document.createElement('progress');\n      progress.max = size;\n      div.appendChild(progress);\n      document.body.appendChild(div);\n\n      const buffers = [];\n      let downloaded = 0;\n\n      const channel = await google.colab.kernel.comms.open(id);\n      // Send a message to notify the kernel that we're ready.\n      channel.send({})\n\n      for await (const message of channel.messages) {\n        // Send a message to notify the kernel that we're ready.\n        channel.send({})\n        if (message.buffers) {\n          for (const buffer of message.buffers) {\n            buffers.push(buffer);\n            downloaded += buffer.byteLength;\n            progress.value = downloaded;\n          }\n        }\n      }\n      const blob = new Blob(buffers, {type: 'application/binary'});\n      const a = document.createElement('a');\n      a.href = window.URL.createObjectURL(blob);\n      a.download = filename;\n      div.appendChild(a);\n      a.click();\n      div.remove();\n    }\n  ",
            "text/plain": [
              "<IPython.core.display.Javascript object>"
            ]
          },
          "metadata": {},
          "output_type": "display_data"
        },
        {
          "data": {
            "application/javascript": "download(\"download_10faf1eb-14ea-439f-b313-96bb795e9efa\", \"zip_file_name.zip\", 19287721)",
            "text/plain": [
              "<IPython.core.display.Javascript object>"
            ]
          },
          "metadata": {},
          "output_type": "display_data"
        }
      ],
      "source": [
        "from google.colab import files\n",
        "files.download('zip_file_name.zip')\n"
      ]
    },
    {
      "cell_type": "code",
      "execution_count": null,
      "metadata": {
        "id": "Nq_7XC-poT5R"
      },
      "outputs": [],
      "source": []
    }
  ],
  "metadata": {
    "accelerator": "GPU",
    "colab": {
      "gpuType": "T4",
      "provenance": []
    },
    "kernelspec": {
      "display_name": "Python 3",
      "name": "python3"
    },
    "language_info": {
      "name": "python",
      "version": "3.8.19"
    }
  },
  "nbformat": 4,
  "nbformat_minor": 0
}
